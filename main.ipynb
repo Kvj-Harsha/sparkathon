{
 "cells": [
  {
   "cell_type": "code",
   "execution_count": 2,
   "id": "72cf6483",
   "metadata": {},
   "outputs": [
    {
     "name": "stdout",
     "output_type": "stream",
     "text": [
      "<class 'pandas.core.frame.DataFrame'>\n",
      "RangeIndex: 8500 entries, 0 to 8499\n",
      "Data columns (total 3 columns):\n",
      " #   Column         Non-Null Count  Dtype  \n",
      "---  ------         --------------  -----  \n",
      " 0   temperature    8500 non-null   float64\n",
      " 1   precipitation  8500 non-null   float64\n",
      " 2   wind_speed     8500 non-null   float64\n",
      "dtypes: float64(3)\n",
      "memory usage: 199.3 KB\n"
     ]
    },
    {
     "data": {
      "application/vnd.microsoft.datawrangler.viewer.v0+json": {
       "columns": [
        {
         "name": "index",
         "rawType": "object",
         "type": "string"
        },
        {
         "name": "temperature",
         "rawType": "float64",
         "type": "float"
        },
        {
         "name": "precipitation",
         "rawType": "float64",
         "type": "float"
        },
        {
         "name": "wind_speed",
         "rawType": "float64",
         "type": "float"
        }
       ],
       "ref": "95c8934d-02a8-4662-ab43-2f113ac9015f",
       "rows": [
        [
         "count",
         "8500.0",
         "8500.0",
         "8500.0"
        ],
        [
         "mean",
         "17.243376470588238",
         "10.000423529411766",
         "25.475094117647057"
        ],
        [
         "std",
         "12.999805030330357",
         "5.773801024033008",
         "14.382535957216293"
        ],
        [
         "min",
         "-5.0",
         "0.0",
         "0.0"
        ],
        [
         "25%",
         "5.9",
         "5.0",
         "13.2"
        ],
        [
         "50%",
         "17.2",
         "10.0",
         "25.7"
        ],
        [
         "75%",
         "28.4",
         "15.1",
         "37.7"
        ],
        [
         "max",
         "40.0",
         "20.0",
         "50.0"
        ]
       ],
       "shape": {
        "columns": 3,
        "rows": 8
       }
      },
      "text/html": [
       "<div>\n",
       "<style scoped>\n",
       "    .dataframe tbody tr th:only-of-type {\n",
       "        vertical-align: middle;\n",
       "    }\n",
       "\n",
       "    .dataframe tbody tr th {\n",
       "        vertical-align: top;\n",
       "    }\n",
       "\n",
       "    .dataframe thead th {\n",
       "        text-align: right;\n",
       "    }\n",
       "</style>\n",
       "<table border=\"1\" class=\"dataframe\">\n",
       "  <thead>\n",
       "    <tr style=\"text-align: right;\">\n",
       "      <th></th>\n",
       "      <th>temperature</th>\n",
       "      <th>precipitation</th>\n",
       "      <th>wind_speed</th>\n",
       "    </tr>\n",
       "  </thead>\n",
       "  <tbody>\n",
       "    <tr>\n",
       "      <th>count</th>\n",
       "      <td>8500.000000</td>\n",
       "      <td>8500.000000</td>\n",
       "      <td>8500.000000</td>\n",
       "    </tr>\n",
       "    <tr>\n",
       "      <th>mean</th>\n",
       "      <td>17.243376</td>\n",
       "      <td>10.000424</td>\n",
       "      <td>25.475094</td>\n",
       "    </tr>\n",
       "    <tr>\n",
       "      <th>std</th>\n",
       "      <td>12.999805</td>\n",
       "      <td>5.773801</td>\n",
       "      <td>14.382536</td>\n",
       "    </tr>\n",
       "    <tr>\n",
       "      <th>min</th>\n",
       "      <td>-5.000000</td>\n",
       "      <td>0.000000</td>\n",
       "      <td>0.000000</td>\n",
       "    </tr>\n",
       "    <tr>\n",
       "      <th>25%</th>\n",
       "      <td>5.900000</td>\n",
       "      <td>5.000000</td>\n",
       "      <td>13.200000</td>\n",
       "    </tr>\n",
       "    <tr>\n",
       "      <th>50%</th>\n",
       "      <td>17.200000</td>\n",
       "      <td>10.000000</td>\n",
       "      <td>25.700000</td>\n",
       "    </tr>\n",
       "    <tr>\n",
       "      <th>75%</th>\n",
       "      <td>28.400000</td>\n",
       "      <td>15.100000</td>\n",
       "      <td>37.700000</td>\n",
       "    </tr>\n",
       "    <tr>\n",
       "      <th>max</th>\n",
       "      <td>40.000000</td>\n",
       "      <td>20.000000</td>\n",
       "      <td>50.000000</td>\n",
       "    </tr>\n",
       "  </tbody>\n",
       "</table>\n",
       "</div>"
      ],
      "text/plain": [
       "       temperature  precipitation   wind_speed\n",
       "count  8500.000000    8500.000000  8500.000000\n",
       "mean     17.243376      10.000424    25.475094\n",
       "std      12.999805       5.773801    14.382536\n",
       "min      -5.000000       0.000000     0.000000\n",
       "25%       5.900000       5.000000    13.200000\n",
       "50%      17.200000      10.000000    25.700000\n",
       "75%      28.400000      15.100000    37.700000\n",
       "max      40.000000      20.000000    50.000000"
      ]
     },
     "execution_count": 2,
     "metadata": {},
     "output_type": "execute_result"
    }
   ],
   "source": [
    "import pandas as pd\n",
    "\n",
    "df = pd.read_csv('weather_features.csv')\n",
    "df.info()\n",
    "df.describe()"
   ]
  },
  {
   "cell_type": "code",
   "execution_count": 3,
   "id": "36c81b6a",
   "metadata": {},
   "outputs": [],
   "source": [
    "df.columns = [\"temperature\", \"precipitation\", \"wind_speed\"]\n"
   ]
  },
  {
   "cell_type": "code",
   "execution_count": 4,
   "id": "beb99eea",
   "metadata": {},
   "outputs": [],
   "source": [
    "import numpy as np\n",
    "\n",
    "# Simulate delay (in hours) using a simple weather-driven rule\n",
    "df[\"delay_hours\"] = (\n",
    "    (df[\"temperature\"] > 35).astype(int) * np.random.uniform(1, 4, size=len(df)) +\n",
    "    (df[\"precipitation\"] > 10).astype(int) * np.random.uniform(2, 6, size=len(df)) +\n",
    "    (df[\"wind_speed\"] > 30).astype(int) * np.random.uniform(1, 5, size=len(df))\n",
    ").round(1)\n",
    "\n",
    "# Optional: clip delay_hours to a max of 24\n",
    "df[\"delay_hours\"] = df[\"delay_hours\"].clip(upper=24)\n",
    "\n",
    "# Save as training dataset\n",
    "df.to_csv(\"weather_with_delay.csv\", index=False)\n"
   ]
  },
  {
   "cell_type": "code",
   "execution_count": 5,
   "id": "2ed34335",
   "metadata": {},
   "outputs": [
    {
     "data": {
      "application/vnd.microsoft.datawrangler.viewer.v0+json": {
       "columns": [
        {
         "name": "index",
         "rawType": "int64",
         "type": "integer"
        },
        {
         "name": "temperature",
         "rawType": "float64",
         "type": "float"
        },
        {
         "name": "precipitation",
         "rawType": "float64",
         "type": "float"
        },
        {
         "name": "wind_speed",
         "rawType": "float64",
         "type": "float"
        },
        {
         "name": "delay_hours",
         "rawType": "float64",
         "type": "float"
        }
       ],
       "ref": "7b5c3023-baa4-4c77-9c69-286f49092b0e",
       "rows": [
        [
         "0",
         "11.9",
         "8.5",
         "40.6",
         "3.5"
        ],
        [
         "1",
         "37.8",
         "6.2",
         "33.9",
         "5.7"
        ],
        [
         "2",
         "27.9",
         "5.6",
         "44.5",
         "4.1"
        ],
        [
         "3",
         "21.9",
         "19.4",
         "22.5",
         "4.3"
        ],
        [
         "4",
         "2.0",
         "3.1",
         "44.7",
         "4.7"
        ]
       ],
       "shape": {
        "columns": 4,
        "rows": 5
       }
      },
      "text/html": [
       "<div>\n",
       "<style scoped>\n",
       "    .dataframe tbody tr th:only-of-type {\n",
       "        vertical-align: middle;\n",
       "    }\n",
       "\n",
       "    .dataframe tbody tr th {\n",
       "        vertical-align: top;\n",
       "    }\n",
       "\n",
       "    .dataframe thead th {\n",
       "        text-align: right;\n",
       "    }\n",
       "</style>\n",
       "<table border=\"1\" class=\"dataframe\">\n",
       "  <thead>\n",
       "    <tr style=\"text-align: right;\">\n",
       "      <th></th>\n",
       "      <th>temperature</th>\n",
       "      <th>precipitation</th>\n",
       "      <th>wind_speed</th>\n",
       "      <th>delay_hours</th>\n",
       "    </tr>\n",
       "  </thead>\n",
       "  <tbody>\n",
       "    <tr>\n",
       "      <th>0</th>\n",
       "      <td>11.9</td>\n",
       "      <td>8.5</td>\n",
       "      <td>40.6</td>\n",
       "      <td>3.5</td>\n",
       "    </tr>\n",
       "    <tr>\n",
       "      <th>1</th>\n",
       "      <td>37.8</td>\n",
       "      <td>6.2</td>\n",
       "      <td>33.9</td>\n",
       "      <td>5.7</td>\n",
       "    </tr>\n",
       "    <tr>\n",
       "      <th>2</th>\n",
       "      <td>27.9</td>\n",
       "      <td>5.6</td>\n",
       "      <td>44.5</td>\n",
       "      <td>4.1</td>\n",
       "    </tr>\n",
       "    <tr>\n",
       "      <th>3</th>\n",
       "      <td>21.9</td>\n",
       "      <td>19.4</td>\n",
       "      <td>22.5</td>\n",
       "      <td>4.3</td>\n",
       "    </tr>\n",
       "    <tr>\n",
       "      <th>4</th>\n",
       "      <td>2.0</td>\n",
       "      <td>3.1</td>\n",
       "      <td>44.7</td>\n",
       "      <td>4.7</td>\n",
       "    </tr>\n",
       "  </tbody>\n",
       "</table>\n",
       "</div>"
      ],
      "text/plain": [
       "   temperature  precipitation  wind_speed  delay_hours\n",
       "0         11.9            8.5        40.6          3.5\n",
       "1         37.8            6.2        33.9          5.7\n",
       "2         27.9            5.6        44.5          4.1\n",
       "3         21.9           19.4        22.5          4.3\n",
       "4          2.0            3.1        44.7          4.7"
      ]
     },
     "execution_count": 5,
     "metadata": {},
     "output_type": "execute_result"
    }
   ],
   "source": [
    "df.head()"
   ]
  },
  {
   "cell_type": "code",
   "execution_count": 6,
   "id": "aeb5d3af",
   "metadata": {},
   "outputs": [],
   "source": [
    "df[\"risk_score\"] = df[\"delay_hours\"] / 24  # normalized 0–1\n"
   ]
  },
  {
   "cell_type": "code",
   "execution_count": 12,
   "id": "4fbc1042",
   "metadata": {},
   "outputs": [],
   "source": [
    "df[\"risk_level\"] = pd.cut(\n",
    "    df[\"risk_score\"],\n",
    "    bins=[-0.01, 0.3, 0.7, 0.9],\n",
    "    labels=[\"low\", \"medium\", \"high\"]\n",
    ")\n"
   ]
  },
  {
   "cell_type": "code",
   "execution_count": 13,
   "id": "f8f75d7f",
   "metadata": {},
   "outputs": [
    {
     "data": {
      "application/vnd.microsoft.datawrangler.viewer.v0+json": {
       "columns": [
        {
         "name": "index",
         "rawType": "int64",
         "type": "integer"
        },
        {
         "name": "temperature",
         "rawType": "float64",
         "type": "float"
        },
        {
         "name": "precipitation",
         "rawType": "float64",
         "type": "float"
        },
        {
         "name": "wind_speed",
         "rawType": "float64",
         "type": "float"
        },
        {
         "name": "delay_hours",
         "rawType": "float64",
         "type": "float"
        },
        {
         "name": "risk_score",
         "rawType": "float64",
         "type": "float"
        },
        {
         "name": "risk_level",
         "rawType": "category",
         "type": "unknown"
        }
       ],
       "ref": "ac5419e1-d77f-44c3-93b1-6fe54a7e5d0e",
       "rows": [
        [
         "0",
         "11.9",
         "8.5",
         "40.6",
         "3.5",
         "0.14583333333333334",
         "low"
        ],
        [
         "1",
         "37.8",
         "6.2",
         "33.9",
         "5.7",
         "0.23750000000000002",
         "low"
        ],
        [
         "2",
         "27.9",
         "5.6",
         "44.5",
         "4.1",
         "0.1708333333333333",
         "low"
        ],
        [
         "3",
         "21.9",
         "19.4",
         "22.5",
         "4.3",
         "0.17916666666666667",
         "low"
        ],
        [
         "4",
         "2.0",
         "3.1",
         "44.7",
         "4.7",
         "0.19583333333333333",
         "low"
        ]
       ],
       "shape": {
        "columns": 6,
        "rows": 5
       }
      },
      "text/html": [
       "<div>\n",
       "<style scoped>\n",
       "    .dataframe tbody tr th:only-of-type {\n",
       "        vertical-align: middle;\n",
       "    }\n",
       "\n",
       "    .dataframe tbody tr th {\n",
       "        vertical-align: top;\n",
       "    }\n",
       "\n",
       "    .dataframe thead th {\n",
       "        text-align: right;\n",
       "    }\n",
       "</style>\n",
       "<table border=\"1\" class=\"dataframe\">\n",
       "  <thead>\n",
       "    <tr style=\"text-align: right;\">\n",
       "      <th></th>\n",
       "      <th>temperature</th>\n",
       "      <th>precipitation</th>\n",
       "      <th>wind_speed</th>\n",
       "      <th>delay_hours</th>\n",
       "      <th>risk_score</th>\n",
       "      <th>risk_level</th>\n",
       "    </tr>\n",
       "  </thead>\n",
       "  <tbody>\n",
       "    <tr>\n",
       "      <th>0</th>\n",
       "      <td>11.9</td>\n",
       "      <td>8.5</td>\n",
       "      <td>40.6</td>\n",
       "      <td>3.5</td>\n",
       "      <td>0.145833</td>\n",
       "      <td>low</td>\n",
       "    </tr>\n",
       "    <tr>\n",
       "      <th>1</th>\n",
       "      <td>37.8</td>\n",
       "      <td>6.2</td>\n",
       "      <td>33.9</td>\n",
       "      <td>5.7</td>\n",
       "      <td>0.237500</td>\n",
       "      <td>low</td>\n",
       "    </tr>\n",
       "    <tr>\n",
       "      <th>2</th>\n",
       "      <td>27.9</td>\n",
       "      <td>5.6</td>\n",
       "      <td>44.5</td>\n",
       "      <td>4.1</td>\n",
       "      <td>0.170833</td>\n",
       "      <td>low</td>\n",
       "    </tr>\n",
       "    <tr>\n",
       "      <th>3</th>\n",
       "      <td>21.9</td>\n",
       "      <td>19.4</td>\n",
       "      <td>22.5</td>\n",
       "      <td>4.3</td>\n",
       "      <td>0.179167</td>\n",
       "      <td>low</td>\n",
       "    </tr>\n",
       "    <tr>\n",
       "      <th>4</th>\n",
       "      <td>2.0</td>\n",
       "      <td>3.1</td>\n",
       "      <td>44.7</td>\n",
       "      <td>4.7</td>\n",
       "      <td>0.195833</td>\n",
       "      <td>low</td>\n",
       "    </tr>\n",
       "  </tbody>\n",
       "</table>\n",
       "</div>"
      ],
      "text/plain": [
       "   temperature  precipitation  wind_speed  delay_hours  risk_score risk_level\n",
       "0         11.9            8.5        40.6          3.5    0.145833        low\n",
       "1         37.8            6.2        33.9          5.7    0.237500        low\n",
       "2         27.9            5.6        44.5          4.1    0.170833        low\n",
       "3         21.9           19.4        22.5          4.3    0.179167        low\n",
       "4          2.0            3.1        44.7          4.7    0.195833        low"
      ]
     },
     "execution_count": 13,
     "metadata": {},
     "output_type": "execute_result"
    }
   ],
   "source": [
    "df.head()"
   ]
  },
  {
   "cell_type": "code",
   "execution_count": 14,
   "id": "d64bf9df",
   "metadata": {},
   "outputs": [
    {
     "name": "stdout",
     "output_type": "stream",
     "text": [
      "risk_level\n",
      "low       7569\n",
      "medium     931\n",
      "high         0\n",
      "Name: count, dtype: int64\n"
     ]
    }
   ],
   "source": [
    "print(df[\"risk_level\"].value_counts())\n"
   ]
  },
  {
   "cell_type": "code",
   "execution_count": 15,
   "id": "0e63ed78",
   "metadata": {},
   "outputs": [
    {
     "name": "stdout",
     "output_type": "stream",
     "text": [
      "0\n"
     ]
    }
   ],
   "source": [
    "print(df[\"risk_level\"].isnull().sum())\n"
   ]
  },
  {
   "cell_type": "code",
   "execution_count": 16,
   "id": "76359b28",
   "metadata": {},
   "outputs": [
    {
     "data": {
      "image/png": "[encoded data removed]",
      "text/plain": [
       "<Figure size 640x480 with 1 Axes>"
      ]
     },
     "metadata": {},
     "output_type": "display_data"
    }
   ],
   "source": [
    "import matplotlib.pyplot as plt\n",
    "\n",
    "df[\"risk_level\"].value_counts().plot(kind=\"bar\", color=[\"green\", \"orange\", \"red\"])\n",
    "plt.title(\"Distribution of Risk Levels\")\n",
    "plt.xlabel(\"Risk Level\")\n",
    "plt.ylabel(\"Frequency\")\n",
    "plt.show()\n"
   ]
  },
  {
   "cell_type": "code",
   "execution_count": 17,
   "id": "2599f5c8",
   "metadata": {},
   "outputs": [],
   "source": [
    "high_risk_df = df[df[\"risk_level\"] == \"high\"]\n"
   ]
  },
  {
   "cell_type": "code",
   "execution_count": 18,
   "id": "a10488f1",
   "metadata": {},
   "outputs": [],
   "source": [
    "df.to_csv(\"final_dataset_with_risk.csv\", index=False)\n"
   ]
  },
  {
   "cell_type": "code",
   "execution_count": 19,
   "id": "9a59afa9",
   "metadata": {},
   "outputs": [
    {
     "name": "stdout",
     "output_type": "stream",
     "text": [
      "risk_level\n",
      "low       16.701361\n",
      "medium    21.649946\n",
      "high            NaN\n",
      "Name: temperature, dtype: float64\n"
     ]
    },
    {
     "name": "stderr",
     "output_type": "stream",
     "text": [
      "C:\\Users\\harsh\\AppData\\Local\\Temp\\ipykernel_18084\\2500787349.py:1: FutureWarning: The default of observed=False is deprecated and will be changed to True in a future version of pandas. Pass observed=False to retain current behavior or observed=True to adopt the future default and silence this warning.\n",
      "  avg_temp_by_risk = df.groupby(\"risk_level\")[\"temperature\"].mean()\n"
     ]
    }
   ],
   "source": [
    "avg_temp_by_risk = df.groupby(\"risk_level\")[\"temperature\"].mean()\n",
    "print(avg_temp_by_risk)\n"
   ]
  },
  {
   "cell_type": "code",
   "execution_count": null,
   "id": "307f57ee",
   "metadata": {},
   "outputs": [],
   "source": []
  }
 ],
 "metadata": {
  "kernelspec": {
   "display_name": ".venv",
   "language": "python",
   "name": "python3"
  },
  "language_info": {
   "codemirror_mode": {
    "name": "ipython",
    "version": 3
   },
   "file_extension": ".py",
   "mimetype": "text/x-python",
   "name": "python",
   "nbconvert_exporter": "python",
   "pygments_lexer": "ipython3",
   "version": "3.11.9"
  }
 },
 "nbformat": 4,
 "nbformat_minor": 5
}
